{
 "cells": [
  {
   "cell_type": "markdown",
   "metadata": {},
   "source": [
    "# Ejercicio 9"
   ]
  },
  {
   "cell_type": "markdown",
   "metadata": {},
   "source": [
    "Hacer un programa que lea las coordenadas (x1,y1,r1) y (x2,y2,r2) que \n",
    "corresponden al centro y al radio de dos círculos. \n",
    "Lea un punto de coordenadas (a,b).\n",
    " Determina si (a,b) está contenido: \n",
    "     a) dentro del círculo 1; \n",
    "     b) dentro del círculo 2; \n",
    "     c) dentro de ambos círculos; \n",
    "     d) fuera de ambos círculos. \n",
    "Recordemos que el círculo es el lugar geométrico de los puntos del plano\n",
    "cuya distancia a otro punto fijo, llamado centro, es menor o igual que una \n",
    "cantidad constante, llamada radio.\n",
    "@author: Ideapad 100\n",
    "\n"
   ]
  },
  {
   "cell_type": "code",
   "execution_count": null,
   "metadata": {},
   "outputs": [],
   "source": [
    "#defino una función que calcule la distancia entre dos puntos, para calcular\n",
    "#la distancia entre el centro de cada círculo y el punto (a,b).\n",
    "#si dicha distancia es menor o igual al radio, el punto (a,b) está contenido\n",
    "#en el círculo de dicho radio.\n",
    "def distancia(x,y,a,b):\n",
    "\n",
    "    dist=(((x-a)**2)+((y-b)**2))**(1/2)\n",
    "    return dist\n",
    "#hago un ciclo para ingresar los datos de las coordenadas en x y y de ambos \n",
    "#círculos, el radio que no puede ser negativo y las coordenadas del punto\n",
    "#a,b\n",
    "\n",
    "#circulo 1\n",
    "while True :\n",
    "    x_1= float(input('Ingrese la coordenada en X del círculo 1: '))\n",
    "    break\n",
    "\n",
    "while True :\n",
    "    y_1= float(input('Ingrese la coordenada en Y del círculo 1: '))\n",
    "    break\n",
    "            \n",
    "while True :\n",
    "        r_1= float(input('Ingrese el radio del círculo 1: '))\n",
    "        if r_1 >= 0 :\n",
    "            break\n",
    "#circulo 2    \n",
    "while True :\n",
    "    x_2= float(input('Ingrese la coordenada en X del círculo 2: '))\n",
    "    break\n",
    "\n",
    "while True :\n",
    "    y_2= float(input('Ingrese la coordenada en Y del círculo 2: '))\n",
    "    break\n",
    "        \n",
    "while True :\n",
    "    r_2= float(input('Ingrese el radio del círculo 2: '))\n",
    "    if r_2 >= 0 :\n",
    "        break\n",
    "\n",
    "#punto (a,b)\n",
    "while True :\n",
    "    a= float(input('Ingrese la coordenada en X del punto: '))\n",
    "    break\n",
    "\n",
    "while True :\n",
    "    b= float(input('Ingrese la coordenada en Y del punto: '))\n",
    "    break\n",
    "#calculo las distancias del punto hasta el centro de los dos círculos llamando\n",
    "#la función distancia        \n",
    "distanciac_1= distancia(x_1, y_1, a, b)\n",
    "distanciac_2= distancia(x_2, y_2, a, b)\n",
    "\n",
    "#si la distancia es menor o igual al radio x, (a,b) está contenido en el \n",
    "#círculo de dicho radio\n",
    "if distanciac_1 <= r_1 and distanciac_2 <= r_2:\n",
    "    print ('La coordenada', a,',', b, 'esta contenida en ambos círculos. ')\n",
    "    \n",
    "elif distanciac_1 > r_1 and distanciac_2 <= r_2:\n",
    "    print ('La coordenada', a,',', b, 'esta contenida dentro del círculo 2. ')\n",
    "    \n",
    "elif distanciac_1 <= r_1 and distanciac_2 > r_2:\n",
    "    print ('La coordenada', a,',', b, 'esta contenida dentro del círculo 1. ')\n",
    "    \n",
    "elif distanciac_1 > r_1 and distanciac_2 > r_2:\n",
    "    print ('La coordenada', a,',', b, 'no esta contenido en ningún círculo. ')\n"
   ]
  },
  {
   "cell_type": "markdown",
   "metadata": {},
   "source": [
    "# Ejercicio 13"
   ]
  },
  {
   "cell_type": "markdown",
   "metadata": {},
   "source": [
    "Escribir un programa que lea una cadena de texto y la imprima como un triángulo"
   ]
  },
  {
   "cell_type": "code",
   "execution_count": null,
   "metadata": {},
   "outputs": [],
   "source": [
    "import math\n",
    "\n",
    "#defino una función que me permita leer una cadena y lea todos los elementos\n",
    "#como str, de lo contrario volver a ingresar\n",
    "def leer_cadena():\n",
    "    while True:\n",
    "        try:\n",
    "            cadena= (input(\"Ingrese una cadena de texto: \"))\n",
    "            if type(cadena) != str:\n",
    "                raise ValueError\n",
    "            break\n",
    "        except:\n",
    "            print(\"La cadena ingresada no es valida\")\n",
    "    return(cadena)\n",
    "\n",
    "    \n",
    "#Imprimir, centrando el arreglo con la fila que contiene mas elementos\n",
    "\n",
    "cad= leer_cadena()\n",
    "cad = cad.replace(\" \",\"\") #elimino los espacios de la cadena \n",
    "long= len(cad) \n",
    "filas= (len(cad)**(1/2)) #Sacar la cantidad maxima de filas que contiene, este\n",
    "#es una funcion cuadratica. el cuadrado del numero de filas determina la \n",
    "#cantidad de caracteres que se pueden acomodar.\n",
    "if filas - filas//1 !=0:\n",
    "    fila_mayor= math.ceil(filas -1) #la funcion math ceil\n",
    "                                    #devuelve el entero más pequeño mayor o \n",
    "                                    #igual a un número dado.\n",
    "else:\n",
    "    fila_mayor= math.ceil(filas)\n",
    "filas= math.ceil(filas)\n",
    "\n",
    "for i in range (0,filas+1):\n",
    "    print((cad[(i**2):((i+1)**2)]).center(fila_mayor*2)) #se imprime centrando\n",
    "                                                         #con la fila que más\n",
    "                                                         #tiene elementos.\n",
    "    "
   ]
  },
  {
   "cell_type": "markdown",
   "metadata": {},
   "source": [
    "# Ejercicio 17"
   ]
  },
  {
   "cell_type": "markdown",
   "metadata": {},
   "source": [
    "Leer una lista y determinar cuál es el segundo elemento más grande de dicha lista. \n",
    "No utilice ningún tipo de algoritmo de ordenamiento para realizar este ejercicio."
   ]
  },
  {
   "cell_type": "code",
   "execution_count": null,
   "metadata": {},
   "outputs": [],
   "source": [
    "#se debe ingresar una lista entre corchetes [] y cada elemento delimitado por\n",
    "#comas para que el programa lo lea como una lista.\n",
    "lista= eval(input('Digite una lista de elementos: '))\n",
    "#se halla el mayor entre la lista\n",
    "mayor= max(lista)\n",
    "lista.remove(mayor) #elimina el primer elemento mayor\n",
    "lista2 = lista #la lista 2 no tiene el primer elemento mayor \n",
    "mayor2= max(lista2)\n",
    "print('El segundo elemento mayor es:',mayor2)\n"
   ]
  }
 ],
 "metadata": {
  "kernelspec": {
   "display_name": "Python 3",
   "language": "python",
   "name": "python3"
  },
  "language_info": {
   "codemirror_mode": {
    "name": "ipython",
    "version": 3
   },
   "file_extension": ".py",
   "mimetype": "text/x-python",
   "name": "python",
   "nbconvert_exporter": "python",
   "pygments_lexer": "ipython3",
   "version": "3.7.3"
  }
 },
 "nbformat": 4,
 "nbformat_minor": 2
}

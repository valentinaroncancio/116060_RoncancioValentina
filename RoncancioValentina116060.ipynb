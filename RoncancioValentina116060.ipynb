{
 "cells": [
  {
   "cell_type": "markdown",
   "metadata": {},
   "source": [
    "# Ejercicio 1\n",
    "    "
   ]
  },
  {
   "cell_type": "code",
   "execution_count": 2,
   "metadata": {},
   "outputs": [
    {
     "name": "stdout",
     "output_type": "stream",
     "text": [
      "digite número -2333\n",
      "2333.0\n"
     ]
    }
   ],
   "source": [
    "x= float(input('digite número ')) #digito float para que me lea decimales\n",
    "if(x<0):\n",
    "    x= x*-1\n",
    "print(x)\n",
    "    "
   ]
  },
  {
   "cell_type": "markdown",
   "metadata": {},
   "source": [
    "###### "
   ]
  },
  {
   "cell_type": "markdown",
   "metadata": {},
   "source": [
    "# Ejercicio 2"
   ]
  },
  {
   "cell_type": "code",
   "execution_count": null,
   "metadata": {},
   "outputs": [],
   "source": [
    "n= int(input('Digite número entero '))\n",
    "x= 0\n",
    "#descomopongo los números en una lista\n",
    "while n>10:\n",
    "    d = abs(n%10)\n",
    "    n = abs(n//10)\n",
    "    x = (x*10) + d\n",
    "    \n",
    "    if n<10 :\n",
    "        x = (x*10) + n \n",
    "print(x)\n",
    " "
   ]
  },
  {
   "cell_type": "markdown",
   "metadata": {},
   "source": [
    "# Ejercicio 3"
   ]
  },
  {
   "cell_type": "code",
   "execution_count": null,
   "metadata": {},
   "outputs": [],
   "source": [
    "lista=[]\n",
    "x= int(input('digite un número de tres dígitos '))\n",
    "#descompongo el número y lo almaceno en una lista\n",
    "while x>10: \n",
    "    d = abs(x%10)\n",
    "    x = abs(x//10)\n",
    "    lista.append(d)\n",
    "    \n",
    "    if x<10:\n",
    "        lista.append(x)\n",
    "        \n",
    "if 8 in lista:\n",
    "    print('si contiene el número ocho')\n",
    "else:\n",
    "    print('no contiene el número ocho')\n",
    "    "
   ]
  },
  {
   "cell_type": "markdown",
   "metadata": {},
   "source": [
    "# Ejercicio 4 "
   ]
  },
  {
   "cell_type": "code",
   "execution_count": null,
   "metadata": {},
   "outputs": [],
   "source": [
    "@author: Ideapad 100\n",
    "\n",
    "n=int(input('Digite numero '))\n",
    "vector= []\n",
    "while n>10:\n",
    "    d= abs(n%10)\n",
    "    n= abs(n//10)\n",
    "    vector.append(d)\n",
    "    if n<10:\n",
    "        vector.append(n)\n",
    "        \n",
    "suma=0\n",
    "for i in range(len(vector)):\n",
    "    if vector[i]%2 == 0:\n",
    "        suma= suma+ vector[i]\n",
    "        \n",
    "print('la suma de los digitos pares es ', suma)"
   ]
  },
  {
   "cell_type": "markdown",
   "metadata": {},
   "source": [
    "# Ejercicio 5"
   ]
  },
  {
   "cell_type": "code",
   "execution_count": 3,
   "metadata": {},
   "outputs": [
    {
     "name": "stdout",
     "output_type": "stream",
     "text": [
      "Escriba un número entero con varios cincos = 123555455765\n",
      "El número de cincos consecutivos que contiene el número ingresado es 5 .\n"
     ]
    }
   ],
   "source": [
    "def contador_de_cincos(x):\n",
    "    con=0\n",
    "    while x>0:\n",
    "        dig1=x%10\n",
    "        x=x//10\n",
    "        dig2=x%10\n",
    "        if dig1==5 and dig2==5:\n",
    "            con+=2\n",
    "            num1=x//10\n",
    "            dig3=num1%10\n",
    "            if dig2==5 and dig3==5:\n",
    "                con+=1\n",
    "                if dig1==5 and dig3==5:\n",
    "                    con-=2\n",
    "    return con\n",
    "while True:\n",
    "    try:\n",
    "        num=int(input(f\"Escriba un número entero \"))\n",
    "        if num<0:\n",
    "            num*=(-1)\n",
    "        break\n",
    "    except ValueError:\n",
    "        print(\"El caracter ingresado es incorrecto. Inténtelo de nuevo.\")\n",
    "\n",
    "con=contador_de_cincos(num)\n",
    "if con>0:\n",
    "    print(\"El número de cincos consecutivos que contiene el número\\\n",
    " ingresado es\",con,\".\")\n",
    "else:\n",
    "    print(\"El número ingresado NO contiene cincos consecutivos.\")"
   ]
  },
  {
   "cell_type": "markdown",
   "metadata": {},
   "source": [
    "# Ejercicio 6"
   ]
  },
  {
   "cell_type": "code",
   "execution_count": null,
   "metadata": {},
   "outputs": [],
   "source": [
    "n= int(input('Ingrese un número entero: '))\n",
    "lista=[]\n",
    "\n",
    "while n>10:\n",
    "    d= abs(n%10)\n",
    "    n= abs(n//10)\n",
    "    lista.append(d)\n",
    "    if n<10:\n",
    "        lista.append(n)\n",
    "suma = 0\n",
    "for i in range(len(lista)):\n",
    "    suma= suma+ lista[i]\n",
    "       \n",
    "\n",
    "c = 0\n",
    "a = 0\n",
    "b = 1\n",
    "\n",
    "while (c<suma):\n",
    "   c = a+b\n",
    "   a=b\n",
    "   b=c\n",
    "\n",
    "if suma == c:\n",
    "    print('La suma de los dígitos pertenece a la serie fibonacci')\n",
    "else:\n",
    "    print('La suma de los dígitos no pertenece a la serie fibonacci')\n",
    "    \n",
    "\n"
   ]
  },
  {
   "cell_type": "markdown",
   "metadata": {},
   "source": [
    "# Ejercicio 7"
   ]
  },
  {
   "cell_type": "code",
   "execution_count": null,
   "metadata": {},
   "outputs": [],
   "source": [
    "listarepetidos=[] #va a almacenar los números que estén repetidos\n",
    "#en la cadena\n",
    "listaunicos =[] #va a almacenar los números que no se repiten\n",
    "x= input('Digite un número ')\n",
    "\n",
    "for i in x:\n",
    "    if i not in listaunicos:\n",
    "        listaunicos.append(i)\n",
    "    else: \n",
    "        if i not in listarepetidos:\n",
    "            listarepetidos.append(i)\n",
    "        \n",
    "cad= ','.join(listarepetidos) #los une mediante de comas a una cadena\n",
    "print('El número repetido es',cad)\n",
    "\n"
   ]
  },
  {
   "cell_type": "markdown",
   "metadata": {},
   "source": [
    "# Ejercicio 8"
   ]
  },
  {
   "cell_type": "code",
   "execution_count": null,
   "metadata": {},
   "outputs": [],
   "source": [
    "limite= 15\n",
    "contador= 0\n",
    "lista1= [] #multiplos de tres\n",
    "lista2= [] #multiplos de cuatro\n",
    "\n",
    "for x in range(1,101):\n",
    "    if x%3==0:\n",
    "        #print(x)\n",
    "        #print('es multiplo de 3')\n",
    "        lista1.append(x)\n",
    "        contador+=1\n",
    "    if contador==limite:\n",
    "        break\n",
    "  \n",
    "    \n",
    "for elresto in  range(x,101):\n",
    "    if elresto%4==0:\n",
    "          #print(elresto)\n",
    "          #print('es multiplo de 4') \n",
    "          lista2.append(elresto)\n",
    "            "
   ]
  },
  {
   "cell_type": "markdown",
   "metadata": {},
   "source": [
    "# Ejercicio 10"
   ]
  },
  {
   "cell_type": "code",
   "execution_count": null,
   "metadata": {},
   "outputs": [],
   "source": [
    "cad= input('Digite texto: ')\n",
    "lista= []\n",
    "ñ= 241\n",
    "\n",
    "        \n",
    "for j in range(len(cad)):\n",
    "    for i in range(97,123):\n",
    "        if ord(cad[j]) == i:\n",
    "            lista.append(chr(i-32))\n",
    "    for i in range(65,91):\n",
    "        if ord(cad[j]) == i:\n",
    "            lista.append(chr(i))\n",
    "    if ord(cad[j]) == 241 or ord(cad[j]) == 209:\n",
    "        lista.append(chr(209))\n",
    "    if ord(cad[j]) == 252 or ord(cad[j]) == 220:\n",
    "        lista.append(chr(220))\n",
    "    if ord(cad[j]) == 225 or ord(cad[j]) == 193:\n",
    "        lista.append(chr(193))\n",
    "    if ord(cad[j]) == 233 or ord(cad[j]) == 201:\n",
    "        lista.append(chr(201))\n",
    "    if ord(cad[j]) == 237 or ord(cad[j]) == 205:\n",
    "        lista.append(chr(205))\n",
    "    if ord(cad[j]) == 243 or ord(cad[j]) == 211:\n",
    "        lista.append(chr(211))\n",
    "    if ord(cad[j]) == 250 or ord(cad[j]) == 218:\n",
    "        lista.append(chr(218))\n",
    "    if cad[j]== ' ':\n",
    "        lista.append(' ') \n",
    "        \n",
    "\n",
    "        \n",
    "  \n",
    "x= ''.join(lista)\n",
    "print(x)\n"
   ]
  },
  {
   "cell_type": "markdown",
   "metadata": {},
   "source": [
    "# Ejercicio 11"
   ]
  },
  {
   "cell_type": "code",
   "execution_count": null,
   "metadata": {},
   "outputs": [],
   "source": [
    "#Escribir un programa que reciba una cadena de texto y reporte:\n",
    "#a) cuántas letras vocales en mayúscula se entraron;\n",
    "#b) cuántas letras con tilde se entraron (minúsculas y mayúsculas);\n",
    "#c) cuántos dígitos se entraron\n",
    "#d) cuántos espacios se entraron; \n",
    "#e) cuántas palabras reservadas se entraron.\n",
    "import keyword\n",
    "cadena= input('Digite texto: ')\n",
    "contadorvocales= 0\n",
    "contadortilde= 0\n",
    "contadordigitos= 0\n",
    "vocales_mayuscula= 'AEIOU'\n",
    "letrascontilde= 'ÁáÉéÍíÓóÚú'\n",
    "contadorespacio= 0\n",
    "contador_reservadas= 0\n",
    "lista=keyword.kwlist\n",
    "listapalabras= cadena.split()\n",
    "\n",
    "\n",
    "for i in cadena:\n",
    "    if i in vocales_mayuscula:\n",
    "        contadorvocales += 1\n",
    "print('El texto tiene',contadorvocales,'vocales en mayúscula')\n",
    "        \n",
    "for i in cadena:\n",
    "    if i in letrascontilde:\n",
    "        contadortilde += 1\n",
    "print('El texto tiene',contadortilde,'letras con tilde')\n",
    "\n",
    "for i in cadena:\n",
    "    if i.isdigit():\n",
    "        contadordigitos +=1\n",
    "print('El texto tiene',contadordigitos,'digitos')\n",
    "       \n",
    "for i in cadena:\n",
    "    if i in ' ':\n",
    "        contadorespacio += 1\n",
    "print('El texto tiene',contadorespacio,'espacios')\n",
    "\n",
    "for i in listapalabras:\n",
    "    if i in lista:\n",
    "        contador_reservadas += 1\n",
    "print('El texto tiene',contador_reservadas,'palabras reservadas' )\n"
   ]
  },
  {
   "cell_type": "markdown",
   "metadata": {},
   "source": [
    "# Ejercicio 12"
   ]
  },
  {
   "cell_type": "code",
   "execution_count": null,
   "metadata": {},
   "outputs": [],
   "source": [
    "palabra1= input('Digite la primera palabra ')\n",
    "palabra2 = input('Digite la segunda palabra ')\n",
    "\n",
    "if palabra1 > palabra2:\n",
    "    print(palabra2,'va primero en el diccionario')\n",
    "else:\n",
    "    print(palabra1, 'va primero en el diccionario')"
   ]
  },
  {
   "cell_type": "markdown",
   "metadata": {},
   "source": [
    "# Ejercicio 14"
   ]
  },
  {
   "cell_type": "code",
   "execution_count": null,
   "metadata": {},
   "outputs": [],
   "source": [
    "cadena= input('Ingrese texto: ')\n",
    "lista=list(cadena)\n",
    "lista.sort()\n",
    "lista2= []\n",
    "\n",
    "for i in lista:\n",
    "    lista2.append(i)\n",
    "x= ''.join(lista2)\n",
    "print(x)\n",
    " "
   ]
  },
  {
   "cell_type": "markdown",
   "metadata": {},
   "source": [
    "# Ejercicio 15"
   ]
  },
  {
   "cell_type": "code",
   "execution_count": null,
   "metadata": {},
   "outputs": [],
   "source": [
    "numeros= int(input('Digite números enteros: '))\n",
    "lista= []\n",
    "repetido=[]\n",
    "\n",
    "while numeros>10 :\n",
    "    d= abs(numeros%10)\n",
    "    numeros= abs(numeros//10)\n",
    "    lista.append(d)\n",
    "    \n",
    "    if numeros<10:\n",
    "        lista.append(numeros)\n",
    "        \n",
    "for i in range(len(lista)):\n",
    "    if lista.count(i) == 2:\n",
    "        print(f'el número {i} se repite dos veces')\n",
    "        "
   ]
  },
  {
   "cell_type": "markdown",
   "metadata": {},
   "source": [
    "# Ejercicio 16"
   ]
  },
  {
   "cell_type": "code",
   "execution_count": null,
   "metadata": {},
   "outputs": [],
   "source": [
    "lista = list(input('Digite números ordenados en forma ascendente: '))\n",
    "#para verificar que es una lista ordenada, sino ordenarla e imprimir el\n",
    "#la lista ordenada.\n",
    "#el comando [:] \n",
    "listaordenada= lista[:]\n",
    "listaordenada.sort()\n",
    "print('la lista ordenada es: ',listaordenada)\n",
    "\n",
    "\n",
    "#el usuario ingresa el dígito el cual el programa lo leerá como una lista \n",
    "digito= list(input('Digite un número: '))\n",
    "#lo agrego a mi lista ordenada\n",
    "listacondigito = listaordenada + digito\n",
    "listacondigito.sort()\n",
    "print('La lista con el digito incluído es:', listacondigito)\n"
   ]
  }
 ],
 "metadata": {
  "kernelspec": {
   "display_name": "Python 3",
   "language": "python",
   "name": "python3"
  },
  "language_info": {
   "codemirror_mode": {
    "name": "ipython",
    "version": 3
   },
   "file_extension": ".py",
   "mimetype": "text/x-python",
   "name": "python",
   "nbconvert_exporter": "python",
   "pygments_lexer": "ipython3",
   "version": "3.7.3"
  }
 },
 "nbformat": 4,
 "nbformat_minor": 2
}
